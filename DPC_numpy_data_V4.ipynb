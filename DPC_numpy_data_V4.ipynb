{
 "cells": [
  {
   "cell_type": "code",
   "execution_count": 157,
   "metadata": {
    "collapsed": true
   },
   "outputs": [],
   "source": [
    "%matplotlib inline\n",
    "from __future__ import division\n",
    "import numpy as np\n",
    "import matplotlib.pyplot as plt\n",
    "import random"
   ]
  },
  {
   "cell_type": "markdown",
   "metadata": {},
   "source": [
    "# '''\n",
    "When you run the script it will generate three guassian distributed clusters as well as some outliers. It then attmepts to cluster the \n",
    "data and plot the results.\n",
    "\n",
    "This code may be needed to run a few times as it is not finished. There should be three cluster centers and if the algorithm picks out more or less than \n",
    "three cluster centers. In each section there are what needs to be worked on to improve the code.\n",
    "'''"
   ]
  },
  {
   "cell_type": "code",
   "execution_count": 158,
   "metadata": {
    "collapsed": true
   },
   "outputs": [],
   "source": [
    "# inputs \n",
    "dc = 0.9 # changing dc changes the value of the density (p) array\n",
    "p_thresh = 20.0 # changing the p and delta thresholds changes what is considered a cluster center\n",
    "delta_thresh = 6.0"
   ]
  },
  {
   "cell_type": "code",
   "execution_count": 159,
   "metadata": {},
   "outputs": [
    {
     "data": {
      "text/plain": [
       "(-5.9070341445776986,\n",
       " 14.047717036131672,\n",
       " -11.563960623939243,\n",
       " 9.0639616387364299)"
      ]
     },
     "execution_count": 159,
     "metadata": {},
     "output_type": "execute_result"
    },
    {
     "data": {
      "image/png": "[encoded data removed]",
      "text/plain": [
       "<matplotlib.figure.Figure at 0x10938e750>"
      ]
     },
     "metadata": {},
     "output_type": "display_data"
    }
   ],
   "source": [
    "# this is how the data is now created\n",
    "\n",
    "\n",
    "#### things to change (import data as text files) ####\n",
    "\n",
    "# create cluster 1\n",
    "mean1 = [10, 5]\n",
    "cov1 = [[1, 0], [0, 1]]\n",
    "x1, y1 = np.random.multivariate_normal(mean1, cov1, 200).T\n",
    "\n",
    "# create cluster 2\n",
    "mean2 = [-2, 4]\n",
    "cov2 = [[1, 0], [0, 1]]\n",
    "x2, y2 = np.random.multivariate_normal(mean2, cov2, 200).T\n",
    "\n",
    "# create cluster 3\n",
    "mean3 = [1, -8]\n",
    "cov3 = [[1, 0], [0, 1]]\n",
    "x3, y3 = np.random.multivariate_normal(mean3, cov3, 200).T\n",
    "\n",
    "# add outliers \n",
    "outliers = [[5,0],[12,-6],[-5,0]]\n",
    "x_out = []; y_out = []\n",
    "for idx in range(0,np.shape(outliers)[0]):\n",
    "    x_out.append(outliers[idx][0])\n",
    "    y_out.append(outliers[idx][1])\n",
    "x_out = np.array(x_out)\n",
    "y_out = np.array(y_out)\n",
    "\n",
    "# plot the data\n",
    "# plots for the three clusters individually (needs to be generalized to arbitrary number of clusters)\n",
    "plt.plot(x1, y1, 'x',c='c')\n",
    "plt.plot(x2, y2, 'o',c='r')\n",
    "plt.plot(x3, y3, 's',c='b')\n",
    "plt.plot(x_out, y_out, 'd',c='k')\n",
    "plt.axis('equal')"
   ]
  },
  {
   "cell_type": "code",
   "execution_count": 160,
   "metadata": {
    "collapsed": true
   },
   "outputs": [],
   "source": [
    "# here we reorder the data so to make it possibly more realistic (this shouldn't matter though)\n",
    "\n",
    "# stack the cluster arrays together\n",
    "x_tot = np.hstack([x1,x2,x3,x_out])\n",
    "y_tot = np.hstack([y1,y2,y3,y_out])\n",
    "\n",
    "# shuffle the data around\n",
    "combined = zip(x_tot, y_tot)\n",
    "random.shuffle(combined)\n",
    "x_tot[:], y_tot[:] = zip(*combined)"
   ]
  },
  {
   "cell_type": "code",
   "execution_count": 161,
   "metadata": {},
   "outputs": [
    {
     "data": {
      "text/plain": [
       "<matplotlib.collections.PathCollection at 0x1095e4410>"
      ]
     },
     "execution_count": 161,
     "metadata": {},
     "output_type": "execute_result"
    },
    {
     "data": {
      "image/png": "[encoded data removed]",
      "text/plain": [
       "<matplotlib.figure.Figure at 0x1094d61d0>"
      ]
     },
     "metadata": {},
     "output_type": "display_data"
    }
   ],
   "source": [
    "# create the density (p) and the delta arrays\n",
    "\n",
    "#### things to change (generalize to n-dimensional data, clean up the code, fix np.min(distances_temp) error by using try) ####\n",
    "\n",
    "# create the p array\n",
    "p = np.zeros(np.shape(y_tot)[0])\n",
    "distances = []\n",
    "for idx in range(0,np.shape(y_tot)[0]):\n",
    "    x_temp = (x_tot[idx]-x_tot)**2\n",
    "    y_temp = (y_tot[idx]-y_tot)**2\n",
    "    # get rid of counting the same point\n",
    "    x_temp = np.delete(x_temp,idx); y_temp = np.delete(y_temp,idx)\n",
    "    distance = np.sqrt(x_temp+y_temp)\n",
    "    distances.append(distance)\n",
    "    # only count points that are closer than dc\n",
    "    close = distance - dc\n",
    "    close_sum = np.sum(close<0)\n",
    "    p[idx] = close_sum\n",
    "distances = np.array(distances)\n",
    "\n",
    "# create the delta array\n",
    "maxarg = np.argmax(p)\n",
    "delta = np.zeros(np.shape(y_tot)[0])\n",
    "for idx in range(0,np.shape(y_tot)[0]):\n",
    "    if idx != maxarg:\n",
    "        p_loop = p[idx]\n",
    "        p_temp = np.delete(p,idx)\n",
    "        distances_temp =  distances[idx,np.where(p_temp>p_loop)]\n",
    "        try:\n",
    "            delta[idx] = np.min(distances_temp)\n",
    "        except:\n",
    "            print 'index %.i seems to be a max'%idx\n",
    "    else:\n",
    "        delta[idx] = np.max(distances[idx,:])\n",
    "\n",
    "# plots the p vs delta graph\n",
    "plt.scatter(p,delta)"
   ]
  },
  {
   "cell_type": "code",
   "execution_count": 162,
   "metadata": {},
   "outputs": [
    {
     "name": "stdout",
     "output_type": "stream",
     "text": [
      "[123 136 317 322 570 590]\n",
      "[ 59.  59.  59.  63.  77.  63.]\n",
      "[ 12.62696004  12.62031412  12.60674104  11.67308019  18.78432505\n",
      "  11.85071982]\n",
      "0 1\n",
      "0 2\n",
      "1 0\n",
      "1 2\n",
      "2 0\n",
      "2 1\n",
      "3 5\n",
      "5 3\n",
      "number of cluster centers is 3\n"
     ]
    },
    {
     "data": {
      "text/plain": [
       "(-5.9070341445776986,\n",
       " 14.047717036131672,\n",
       " -11.563960623939243,\n",
       " 9.0639616387364299)"
      ]
     },
     "execution_count": 162,
     "metadata": {},
     "output_type": "execute_result"
    },
    {
     "data": {
      "image/png": "[encoded data removed]",
      "text/plain": [
       "<matplotlib.figure.Figure at 0x1094be950>"
      ]
     },
     "metadata": {},
     "output_type": "display_data"
    }
   ],
   "source": [
    "# find the cluster centers and asign each point to a cluster\n",
    "\n",
    "#### things to change (generalize to n-dimension), there is a thershold distance for p and delta to remove duplicates\n",
    "\n",
    "#find the cluster center\n",
    "inds_center = np.squeeze(np.where((p>p_thresh) & (delta>delta_thresh)))\n",
    "### get rid of points that are too close\n",
    "print inds_center\n",
    "print p[inds_center]\n",
    "print delta[inds_center]\n",
    "for idx1 in range(0,len(inds_center)):\n",
    "    for idx2 in range(0,len(inds_center)):\n",
    "        if idx1 == idx2:\n",
    "            pass\n",
    "        else:\n",
    "            if abs(p[inds_center[idx1]]-p[inds_center[idx2]]) <= 0 and abs(delta[inds_center[idx1]]-delta[inds_center[idx2]]) <= 0.5:\n",
    "                print idx1, idx2\n",
    "                inds_center[idx1] = inds_center[idx2]\n",
    "            else:\n",
    "                pass\n",
    "inds_center = np.unique(inds_center)\n",
    "        \n",
    "    \n",
    "print 'number of cluster centers is %.i'%np.shape(inds_center)[0]\n",
    "\n",
    "# assign each point to a cluster\n",
    "distances2 = []\n",
    "for idx in inds_center:\n",
    "    x_temp2 = (x_tot[idx]-x_tot)**2\n",
    "    y_temp2 = (y_tot[idx]-y_tot)**2\n",
    "    distance2 = np.sqrt(x_temp2+y_temp2)\n",
    "    distances2.append(distance2)\n",
    "distances2 = np.array(distances2)\n",
    "# find the outliers\n",
    "dc2 = dc\n",
    "inds3 = np.where(np.min(distances,axis=1)>dc2*2)\n",
    "# cluster assignment \n",
    "inds2 = np.argmin(distances2,axis=0)\n",
    "\n",
    "# plot the data\n",
    "plt_params = [('x','r'),('o','b'),('s','g'),('d','c'),('p','m'),('*','k'),('^','y'),('8','orange')]\n",
    "for idx in range(0,np.shape(inds_center)[0]):\n",
    "    plt.plot(x_tot[inds2==idx], y_tot[inds2==idx], plt_params[idx][0],c=plt_params[idx][1])\n",
    "plt.plot(x_tot[inds3],y_tot[inds3],'o',c='k',ms=10)\n",
    "plt.axis('equal')"
   ]
  },
  {
   "cell_type": "code",
   "execution_count": null,
   "metadata": {
    "collapsed": true
   },
   "outputs": [],
   "source": []
  }
 ],
 "metadata": {
  "kernelspec": {
   "display_name": "Python 2",
   "language": "python",
   "name": "python2"
  },
  "language_info": {
   "codemirror_mode": {
    "name": "ipython",
    "version": 2
   },
   "file_extension": ".py",
   "mimetype": "text/x-python",
   "name": "python",
   "nbconvert_exporter": "python",
   "pygments_lexer": "ipython2",
   "version": "2.7.10"
  }
 },
 "nbformat": 4,
 "nbformat_minor": 2
}
